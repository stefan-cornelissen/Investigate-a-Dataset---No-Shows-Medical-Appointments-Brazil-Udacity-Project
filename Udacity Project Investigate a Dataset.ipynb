{
 "cells": [
  {
   "cell_type": "markdown",
   "metadata": {},
   "source": [
    "# Project: Investigate a Dataset: \n",
    "# Characteristics of No-Shows for Medical Appointments in Brazil and Effectiveness of SMS-Reminders\n",
    "\n",
    "## Table of Contents\n",
    "<ul>\n",
    "<li><a href=\"#intro\">Introduction</a></li>\n",
    "<li><a href=\"#wrangling\">Data Wrangling</a></li>\n",
    "<li><a href=\"#eda\">Exploratory Data Analysis</a></li>\n",
    "<li><a href=\"#conclusions\">Conclusions</a></li>\n",
    "</ul>"
   ]
  },
  {
   "cell_type": "markdown",
   "metadata": {},
   "source": [
    "<a id='intro'></a>\n",
    "## Introduction\n",
    "\n",
    "This dataset contains data of around 110k medical appointments and whether the patient showed up or not. The dataset comes with additional information to each appointment such as: gender, age, date of scheduling, date of actual appointment, neighborhood, scholarship (more detailed information below), sms-reminded as well as an indication for one or more diseases, the patient might suffer. The possible options for these diseases are: hypertension, diabetes, alcoholism, handicap (not further declared).\n",
    "\n",
    "The original dataset has been sourced from Kaggle <a href=\"https://www.kaggle.com/joniarroba/noshowappointments\">Dataset: Medical Appointment No Shows</a> on 29th October 2018.\n",
    "\n",
    "**Concept of Scholarship:** States if the patient’s family participates in a social welfare program of the government, providing financial aid to poor families. For participation certain conditions have to be fulfilled. Examples of these conditions are: children need to attend to school or need to be vaccinated. Source and further information: https://en.wikipedia.org/wiki/Bolsa_Fam%C3%ADlia\n",
    "\n",
    "### Research Questions\n",
    "At first I want to study parts of the bigger picture using the given data of the data set. That means using the \"per appointment based meta-data\" to study conditions and relationsships to 'no shows'. \n",
    "<ol>\n",
    "<li>What is the relationship between the following personal parts of information and no-shows?</li>\n",
    "<ol>\n",
    "    <li>Diseases</li>\n",
    "    <li>Neighborhood</li>\n",
    "</ol>\n",
    "\n",
    "The second part of the analysis shall look out for opportunities to improve conditions for better performance. Therefore, I want to study on options to improve the situation from the administrative end:\n",
    "<li>Did SMS-reminders decrease the proportion of patients not showing up?</li>\n",
    "</ol>"
   ]
  },
  {
   "cell_type": "code",
   "execution_count": 2,
   "metadata": {},
   "outputs": [],
   "source": [
    "import pandas as pd\n",
    "import numpy as np\n",
    "import matplotlib.pyplot as plt\n",
    "import seaborn as sns\n",
    "%matplotlib inline\n",
    "from datetime import datetime"
   ]
  },
  {
   "cell_type": "markdown",
   "metadata": {},
   "source": [
    "<a id='wrangling'></a>\n",
    "## Data Wrangling\n",
    "\n",
    "### General Properties"
   ]
  },
  {
   "cell_type": "code",
   "execution_count": 3,
   "metadata": {},
   "outputs": [
    {
     "data": {
      "text/html": [
       "<div>\n",
       "<style scoped>\n",
       "    .dataframe tbody tr th:only-of-type {\n",
       "        vertical-align: middle;\n",
       "    }\n",
       "\n",
       "    .dataframe tbody tr th {\n",
       "        vertical-align: top;\n",
       "    }\n",
       "\n",
       "    .dataframe thead th {\n",
       "        text-align: right;\n",
       "    }\n",
       "</style>\n",
       "<table border=\"1\" class=\"dataframe\">\n",
       "  <thead>\n",
       "    <tr style=\"text-align: right;\">\n",
       "      <th></th>\n",
       "      <th>PatientId</th>\n",
       "      <th>AppointmentID</th>\n",
       "      <th>Gender</th>\n",
       "      <th>ScheduledDay</th>\n",
       "      <th>AppointmentDay</th>\n",
       "      <th>Age</th>\n",
       "      <th>Neighbourhood</th>\n",
       "      <th>Scholarship</th>\n",
       "      <th>Hipertension</th>\n",
       "      <th>Diabetes</th>\n",
       "      <th>Alcoholism</th>\n",
       "      <th>Handcap</th>\n",
       "      <th>SMS_received</th>\n",
       "      <th>No-show</th>\n",
       "    </tr>\n",
       "  </thead>\n",
       "  <tbody>\n",
       "    <tr>\n",
       "      <th>0</th>\n",
       "      <td>2.987250e+13</td>\n",
       "      <td>5642903</td>\n",
       "      <td>F</td>\n",
       "      <td>2016-04-29T18:38:08Z</td>\n",
       "      <td>2016-04-29T00:00:00Z</td>\n",
       "      <td>62</td>\n",
       "      <td>JARDIM DA PENHA</td>\n",
       "      <td>0</td>\n",
       "      <td>1</td>\n",
       "      <td>0</td>\n",
       "      <td>0</td>\n",
       "      <td>0</td>\n",
       "      <td>0</td>\n",
       "      <td>No</td>\n",
       "    </tr>\n",
       "    <tr>\n",
       "      <th>1</th>\n",
       "      <td>5.589978e+14</td>\n",
       "      <td>5642503</td>\n",
       "      <td>M</td>\n",
       "      <td>2016-04-29T16:08:27Z</td>\n",
       "      <td>2016-04-29T00:00:00Z</td>\n",
       "      <td>56</td>\n",
       "      <td>JARDIM DA PENHA</td>\n",
       "      <td>0</td>\n",
       "      <td>0</td>\n",
       "      <td>0</td>\n",
       "      <td>0</td>\n",
       "      <td>0</td>\n",
       "      <td>0</td>\n",
       "      <td>No</td>\n",
       "    </tr>\n",
       "    <tr>\n",
       "      <th>2</th>\n",
       "      <td>4.262962e+12</td>\n",
       "      <td>5642549</td>\n",
       "      <td>F</td>\n",
       "      <td>2016-04-29T16:19:04Z</td>\n",
       "      <td>2016-04-29T00:00:00Z</td>\n",
       "      <td>62</td>\n",
       "      <td>MATA DA PRAIA</td>\n",
       "      <td>0</td>\n",
       "      <td>0</td>\n",
       "      <td>0</td>\n",
       "      <td>0</td>\n",
       "      <td>0</td>\n",
       "      <td>0</td>\n",
       "      <td>No</td>\n",
       "    </tr>\n",
       "    <tr>\n",
       "      <th>3</th>\n",
       "      <td>8.679512e+11</td>\n",
       "      <td>5642828</td>\n",
       "      <td>F</td>\n",
       "      <td>2016-04-29T17:29:31Z</td>\n",
       "      <td>2016-04-29T00:00:00Z</td>\n",
       "      <td>8</td>\n",
       "      <td>PONTAL DE CAMBURI</td>\n",
       "      <td>0</td>\n",
       "      <td>0</td>\n",
       "      <td>0</td>\n",
       "      <td>0</td>\n",
       "      <td>0</td>\n",
       "      <td>0</td>\n",
       "      <td>No</td>\n",
       "    </tr>\n",
       "    <tr>\n",
       "      <th>4</th>\n",
       "      <td>8.841186e+12</td>\n",
       "      <td>5642494</td>\n",
       "      <td>F</td>\n",
       "      <td>2016-04-29T16:07:23Z</td>\n",
       "      <td>2016-04-29T00:00:00Z</td>\n",
       "      <td>56</td>\n",
       "      <td>JARDIM DA PENHA</td>\n",
       "      <td>0</td>\n",
       "      <td>1</td>\n",
       "      <td>1</td>\n",
       "      <td>0</td>\n",
       "      <td>0</td>\n",
       "      <td>0</td>\n",
       "      <td>No</td>\n",
       "    </tr>\n",
       "  </tbody>\n",
       "</table>\n",
       "</div>"
      ],
      "text/plain": [
       "      PatientId  AppointmentID Gender          ScheduledDay  \\\n",
       "0  2.987250e+13        5642903      F  2016-04-29T18:38:08Z   \n",
       "1  5.589978e+14        5642503      M  2016-04-29T16:08:27Z   \n",
       "2  4.262962e+12        5642549      F  2016-04-29T16:19:04Z   \n",
       "3  8.679512e+11        5642828      F  2016-04-29T17:29:31Z   \n",
       "4  8.841186e+12        5642494      F  2016-04-29T16:07:23Z   \n",
       "\n",
       "         AppointmentDay  Age      Neighbourhood  Scholarship  Hipertension  \\\n",
       "0  2016-04-29T00:00:00Z   62    JARDIM DA PENHA            0             1   \n",
       "1  2016-04-29T00:00:00Z   56    JARDIM DA PENHA            0             0   \n",
       "2  2016-04-29T00:00:00Z   62      MATA DA PRAIA            0             0   \n",
       "3  2016-04-29T00:00:00Z    8  PONTAL DE CAMBURI            0             0   \n",
       "4  2016-04-29T00:00:00Z   56    JARDIM DA PENHA            0             1   \n",
       "\n",
       "   Diabetes  Alcoholism  Handcap  SMS_received No-show  \n",
       "0         0           0        0             0      No  \n",
       "1         0           0        0             0      No  \n",
       "2         0           0        0             0      No  \n",
       "3         0           0        0             0      No  \n",
       "4         1           0        0             0      No  "
      ]
     },
     "execution_count": 3,
     "metadata": {},
     "output_type": "execute_result"
    }
   ],
   "source": [
    "df = pd.read_csv('noshowappointments-original-source-KaggleV2-May-2016.csv') \n",
    "df.head()"
   ]
  },
  {
   "cell_type": "markdown",
   "metadata": {},
   "source": [
    "All columns are read in properly. The created index could come in handy, as the one PatiendID might not be a unique identifyer since one can have multiple appointments."
   ]
  },
  {
   "cell_type": "code",
   "execution_count": 4,
   "metadata": {},
   "outputs": [
    {
     "data": {
      "text/plain": [
       "(110527, 14)"
      ]
     },
     "execution_count": 4,
     "metadata": {},
     "output_type": "execute_result"
    }
   ],
   "source": [
    "#What size does the table, now dataframe have?\n",
    "df.shape"
   ]
  },
  {
   "cell_type": "code",
   "execution_count": 5,
   "metadata": {},
   "outputs": [
    {
     "data": {
      "text/plain": [
       "0"
      ]
     },
     "execution_count": 5,
     "metadata": {},
     "output_type": "execute_result"
    }
   ],
   "source": [
    "sum(df.duplicated())"
   ]
  },
  {
   "cell_type": "code",
   "execution_count": 6,
   "metadata": {},
   "outputs": [
    {
     "data": {
      "text/html": [
       "<div>\n",
       "<style scoped>\n",
       "    .dataframe tbody tr th:only-of-type {\n",
       "        vertical-align: middle;\n",
       "    }\n",
       "\n",
       "    .dataframe tbody tr th {\n",
       "        vertical-align: top;\n",
       "    }\n",
       "\n",
       "    .dataframe thead th {\n",
       "        text-align: right;\n",
       "    }\n",
       "</style>\n",
       "<table border=\"1\" class=\"dataframe\">\n",
       "  <thead>\n",
       "    <tr style=\"text-align: right;\">\n",
       "      <th></th>\n",
       "      <th>PatientId</th>\n",
       "      <th>AppointmentID</th>\n",
       "      <th>Age</th>\n",
       "      <th>Scholarship</th>\n",
       "      <th>Hipertension</th>\n",
       "      <th>Diabetes</th>\n",
       "      <th>Alcoholism</th>\n",
       "      <th>Handcap</th>\n",
       "      <th>SMS_received</th>\n",
       "    </tr>\n",
       "  </thead>\n",
       "  <tbody>\n",
       "    <tr>\n",
       "      <th>count</th>\n",
       "      <td>1.105270e+05</td>\n",
       "      <td>1.105270e+05</td>\n",
       "      <td>110527.000000</td>\n",
       "      <td>110527.000000</td>\n",
       "      <td>110527.000000</td>\n",
       "      <td>110527.000000</td>\n",
       "      <td>110527.000000</td>\n",
       "      <td>110527.000000</td>\n",
       "      <td>110527.000000</td>\n",
       "    </tr>\n",
       "    <tr>\n",
       "      <th>mean</th>\n",
       "      <td>1.474963e+14</td>\n",
       "      <td>5.675305e+06</td>\n",
       "      <td>37.088874</td>\n",
       "      <td>0.098266</td>\n",
       "      <td>0.197246</td>\n",
       "      <td>0.071865</td>\n",
       "      <td>0.030400</td>\n",
       "      <td>0.022248</td>\n",
       "      <td>0.321026</td>\n",
       "    </tr>\n",
       "    <tr>\n",
       "      <th>std</th>\n",
       "      <td>2.560949e+14</td>\n",
       "      <td>7.129575e+04</td>\n",
       "      <td>23.110205</td>\n",
       "      <td>0.297675</td>\n",
       "      <td>0.397921</td>\n",
       "      <td>0.258265</td>\n",
       "      <td>0.171686</td>\n",
       "      <td>0.161543</td>\n",
       "      <td>0.466873</td>\n",
       "    </tr>\n",
       "    <tr>\n",
       "      <th>min</th>\n",
       "      <td>3.921784e+04</td>\n",
       "      <td>5.030230e+06</td>\n",
       "      <td>-1.000000</td>\n",
       "      <td>0.000000</td>\n",
       "      <td>0.000000</td>\n",
       "      <td>0.000000</td>\n",
       "      <td>0.000000</td>\n",
       "      <td>0.000000</td>\n",
       "      <td>0.000000</td>\n",
       "    </tr>\n",
       "    <tr>\n",
       "      <th>25%</th>\n",
       "      <td>4.172614e+12</td>\n",
       "      <td>5.640286e+06</td>\n",
       "      <td>18.000000</td>\n",
       "      <td>0.000000</td>\n",
       "      <td>0.000000</td>\n",
       "      <td>0.000000</td>\n",
       "      <td>0.000000</td>\n",
       "      <td>0.000000</td>\n",
       "      <td>0.000000</td>\n",
       "    </tr>\n",
       "    <tr>\n",
       "      <th>50%</th>\n",
       "      <td>3.173184e+13</td>\n",
       "      <td>5.680573e+06</td>\n",
       "      <td>37.000000</td>\n",
       "      <td>0.000000</td>\n",
       "      <td>0.000000</td>\n",
       "      <td>0.000000</td>\n",
       "      <td>0.000000</td>\n",
       "      <td>0.000000</td>\n",
       "      <td>0.000000</td>\n",
       "    </tr>\n",
       "    <tr>\n",
       "      <th>75%</th>\n",
       "      <td>9.439172e+13</td>\n",
       "      <td>5.725524e+06</td>\n",
       "      <td>55.000000</td>\n",
       "      <td>0.000000</td>\n",
       "      <td>0.000000</td>\n",
       "      <td>0.000000</td>\n",
       "      <td>0.000000</td>\n",
       "      <td>0.000000</td>\n",
       "      <td>1.000000</td>\n",
       "    </tr>\n",
       "    <tr>\n",
       "      <th>max</th>\n",
       "      <td>9.999816e+14</td>\n",
       "      <td>5.790484e+06</td>\n",
       "      <td>115.000000</td>\n",
       "      <td>1.000000</td>\n",
       "      <td>1.000000</td>\n",
       "      <td>1.000000</td>\n",
       "      <td>1.000000</td>\n",
       "      <td>4.000000</td>\n",
       "      <td>1.000000</td>\n",
       "    </tr>\n",
       "  </tbody>\n",
       "</table>\n",
       "</div>"
      ],
      "text/plain": [
       "          PatientId  AppointmentID            Age    Scholarship  \\\n",
       "count  1.105270e+05   1.105270e+05  110527.000000  110527.000000   \n",
       "mean   1.474963e+14   5.675305e+06      37.088874       0.098266   \n",
       "std    2.560949e+14   7.129575e+04      23.110205       0.297675   \n",
       "min    3.921784e+04   5.030230e+06      -1.000000       0.000000   \n",
       "25%    4.172614e+12   5.640286e+06      18.000000       0.000000   \n",
       "50%    3.173184e+13   5.680573e+06      37.000000       0.000000   \n",
       "75%    9.439172e+13   5.725524e+06      55.000000       0.000000   \n",
       "max    9.999816e+14   5.790484e+06     115.000000       1.000000   \n",
       "\n",
       "        Hipertension       Diabetes     Alcoholism        Handcap  \\\n",
       "count  110527.000000  110527.000000  110527.000000  110527.000000   \n",
       "mean        0.197246       0.071865       0.030400       0.022248   \n",
       "std         0.397921       0.258265       0.171686       0.161543   \n",
       "min         0.000000       0.000000       0.000000       0.000000   \n",
       "25%         0.000000       0.000000       0.000000       0.000000   \n",
       "50%         0.000000       0.000000       0.000000       0.000000   \n",
       "75%         0.000000       0.000000       0.000000       0.000000   \n",
       "max         1.000000       1.000000       1.000000       4.000000   \n",
       "\n",
       "        SMS_received  \n",
       "count  110527.000000  \n",
       "mean        0.321026  \n",
       "std         0.466873  \n",
       "min         0.000000  \n",
       "25%         0.000000  \n",
       "50%         0.000000  \n",
       "75%         1.000000  \n",
       "max         1.000000  "
      ]
     },
     "execution_count": 6,
     "metadata": {},
     "output_type": "execute_result"
    }
   ],
   "source": [
    "#Getting to know the rough value distribution of each column.\n",
    "df.describe()"
   ]
  },
  {
   "cell_type": "code",
   "execution_count": 7,
   "metadata": {},
   "outputs": [
    {
     "name": "stdout",
     "output_type": "stream",
     "text": [
      "<class 'pandas.core.frame.DataFrame'>\n",
      "RangeIndex: 110527 entries, 0 to 110526\n",
      "Data columns (total 14 columns):\n",
      "PatientId         110527 non-null float64\n",
      "AppointmentID     110527 non-null int64\n",
      "Gender            110527 non-null object\n",
      "ScheduledDay      110527 non-null object\n",
      "AppointmentDay    110527 non-null object\n",
      "Age               110527 non-null int64\n",
      "Neighbourhood     110527 non-null object\n",
      "Scholarship       110527 non-null int64\n",
      "Hipertension      110527 non-null int64\n",
      "Diabetes          110527 non-null int64\n",
      "Alcoholism        110527 non-null int64\n",
      "Handcap           110527 non-null int64\n",
      "SMS_received      110527 non-null int64\n",
      "No-show           110527 non-null object\n",
      "dtypes: float64(1), int64(8), object(5)\n",
      "memory usage: 11.8+ MB\n"
     ]
    }
   ],
   "source": [
    "#Get an overview over the colums types and missing values.\n",
    "df.info()"
   ]
  },
  {
   "cell_type": "markdown",
   "metadata": {},
   "source": [
    "### General Observations\n",
    "<ul>\n",
    "<li>The dataset has 14 colums and 110.527 rows, no duplicates.</li>\n",
    "<br>\n",
    "**Data types**\n",
    "<li>The types of ScheduledDay and Appointmentday need converted to DateTime</li>\n",
    "<li>The types of colums Scholarschip till No-show need to be inspected and ideally converted to boolean for more precise value definition and easier handling.</li>\n",
    "<br>\n",
    "**Values and Distribution **\n",
    "<li>No missing values, since each column  has 110.527 values.</li>\n",
    "<li>With min values of 0 and max values of 1 the columns Scholarship, Hipertension, Diaetes, Alcoholism and SMS_received are dichotomous.</li>\n",
    " <li>The column Handcap seems to have more detail as we here see a max value of 4. A closer look to the value distribution is needed.</li>\n",
    "<li>To answer the research questions, the columns PatiendID and AppointmentID do not seem necessary and will therefore be dropped.</li>\n",
    "<li>The min value -1 of the Age-colum seems odd and will therefore be inspected. The max value is quite high. Although realistic, it is worth a closer look.</li>\n",
    "</ul>"
   ]
  },
  {
   "cell_type": "markdown",
   "metadata": {},
   "source": [
    "### Data Cleaning"
   ]
  },
  {
   "cell_type": "code",
   "execution_count": 8,
   "metadata": {},
   "outputs": [
    {
     "name": "stdout",
     "output_type": "stream",
     "text": [
      "0    2016-04-29T18:38:08Z\n",
      "1    2016-04-29T16:08:27Z\n",
      "2    2016-04-29T16:19:04Z\n",
      "3    2016-04-29T17:29:31Z\n",
      "4    2016-04-29T16:07:23Z\n",
      "Name: ScheduledDay, dtype: object\n",
      "\n",
      "\n",
      "0    2016-04-29T00:00:00Z\n",
      "1    2016-04-29T00:00:00Z\n",
      "2    2016-04-29T00:00:00Z\n",
      "3    2016-04-29T00:00:00Z\n",
      "4    2016-04-29T00:00:00Z\n",
      "Name: AppointmentDay, dtype: object\n"
     ]
    }
   ],
   "source": [
    "#Inspection of colums ScheduledDay and AppointmentDay\n",
    "print(df['ScheduledDay'].head())\n",
    "print('\\n')\n",
    "print(df['AppointmentDay'].head())"
   ]
  },
  {
   "cell_type": "markdown",
   "metadata": {},
   "source": [
    "Inspection reveals that the columns need to be converted to datetime in case we want to calculate the lead time between arranging the appointment and the actual appointment. In addition, values end of the letter 'Z' which has no meaning to me. That needs to be cleaned. Both columns can be treated equal.\n",
    "\n",
    "Source applied for the conversion: https://www.datacamp.com/community/tutorials/converting-strings-datetime-objects and https://stackoverflow.com/questions/43316608/remove-timestamp-from-date-string-in-python"
   ]
  },
  {
   "cell_type": "code",
   "execution_count": 9,
   "metadata": {},
   "outputs": [
    {
     "name": "stdout",
     "output_type": "stream",
     "text": [
      "2016-04-29 18:38:08\n"
     ]
    }
   ],
   "source": [
    "#Testing, how the conversion works for an individual string first.\n",
    "testdate_raw = '2016-04-29T18:38:08Z'\n",
    "testdate_converted = datetime.strptime(testdate_raw, '%Y-%m-%dT%H:%M:%SZ')\n",
    "print(testdate_converted)"
   ]
  },
  {
   "cell_type": "code",
   "execution_count": 10,
   "metadata": {},
   "outputs": [
    {
     "name": "stdout",
     "output_type": "stream",
     "text": [
      "0   2016-04-29 18:38:08\n",
      "1   2016-04-29 16:08:27\n",
      "2   2016-04-29 16:19:04\n",
      "3   2016-04-29 17:29:31\n",
      "4   2016-04-29 16:07:23\n",
      "Name: ScheduledDay, dtype: datetime64[ns]\n",
      "\n",
      "\n",
      "0   2016-04-29\n",
      "1   2016-04-29\n",
      "2   2016-04-29\n",
      "3   2016-04-29\n",
      "4   2016-04-29\n",
      "Name: AppointmentDay, dtype: datetime64[ns]\n"
     ]
    }
   ],
   "source": [
    "# Applying this to the whole columns using the .to_datetime() method in panads\n",
    "df['ScheduledDay'] = pd.to_datetime(df['ScheduledDay'], format='%Y-%m-%dT%H:%M:%SZ')\n",
    "print(df['ScheduledDay'].head())\n",
    "print('\\n')\n",
    "df['AppointmentDay'] = pd.to_datetime(df['AppointmentDay'], format='%Y-%m-%dT%H:%M:%SZ')\n",
    "print(df['AppointmentDay'].head())"
   ]
  },
  {
   "cell_type": "markdown",
   "metadata": {},
   "source": [
    "Note: The column Appointmentday has time stamps without real values. This should be no further concern."
   ]
  },
  {
   "cell_type": "code",
   "execution_count": 11,
   "metadata": {},
   "outputs": [
    {
     "name": "stdout",
     "output_type": "stream",
     "text": [
      "0    99666\n",
      "1    10861\n",
      "Name: Scholarship, dtype: int64\n",
      "\n",
      "\n",
      "0    88726\n",
      "1    21801\n",
      "Name: Hipertension, dtype: int64\n",
      "\n",
      "\n",
      "0    107167\n",
      "1      3360\n",
      "Name: Alcoholism, dtype: int64\n",
      "\n",
      "\n",
      "0    102584\n",
      "1      7943\n",
      "Name: Diabetes, dtype: int64\n",
      "\n",
      "\n",
      "0    108286\n",
      "1      2042\n",
      "2       183\n",
      "3        13\n",
      "4         3\n",
      "Name: Handcap, dtype: int64\n",
      "\n",
      "\n",
      "0    75045\n",
      "1    35482\n",
      "Name: SMS_received, dtype: int64\n",
      "\n",
      "\n",
      "No     88208\n",
      "Yes    22319\n",
      "Name: No-show, dtype: int64\n",
      "\n",
      "\n"
     ]
    }
   ],
   "source": [
    "# List of colums to be converted to boolean.\n",
    "bool_columns=['Scholarship', 'Hipertension', 'Alcoholism', 'Diabetes', 'Handcap', 'SMS_received', 'No-show']\n",
    "\n",
    "# Value inspection of the columns. Iterating through the concerning columns.\n",
    "for column in df[bool_columns]:\n",
    "    print(df[column].value_counts())\n",
    "    print('\\n')"
   ]
  },
  {
   "cell_type": "markdown",
   "metadata": {},
   "source": [
    "Conclusion: All values of the columns are dichotomous, except those from columns 'Handcap' and 'No-show'. \n",
    "This means, before converting to boolean the column names 'Handcap' and 'No-Show' need to be removed from the list."
   ]
  },
  {
   "cell_type": "code",
   "execution_count": 12,
   "metadata": {},
   "outputs": [
    {
     "name": "stdout",
     "output_type": "stream",
     "text": [
      "['Scholarship', 'Hipertension', 'Alcoholism', 'Diabetes', 'SMS_received']\n"
     ]
    }
   ],
   "source": [
    "bool_columns.remove('Handcap')\n",
    "bool_columns.remove('No-show')\n",
    "print(bool_columns)"
   ]
  },
  {
   "cell_type": "code",
   "execution_count": 13,
   "metadata": {},
   "outputs": [
    {
     "name": "stdout",
     "output_type": "stream",
     "text": [
      "False    99666\n",
      "True     10861\n",
      "Name: Scholarship, dtype: int64\n",
      "\n",
      "\n",
      "False    88726\n",
      "True     21801\n",
      "Name: Hipertension, dtype: int64\n",
      "\n",
      "\n",
      "False    107167\n",
      "True       3360\n",
      "Name: Alcoholism, dtype: int64\n",
      "\n",
      "\n",
      "False    102584\n",
      "True       7943\n",
      "Name: Diabetes, dtype: int64\n",
      "\n",
      "\n",
      "False    75045\n",
      "True     35482\n",
      "Name: SMS_received, dtype: int64\n",
      "\n",
      "\n"
     ]
    }
   ],
   "source": [
    "for column in df[bool_columns]:\n",
    "    #Conversion to boolean, by iterating through concerning colums.\n",
    "    df[column] = df[column].astype('bool', inplace=True)\n",
    "    \n",
    "    #Check conversion took place corretly?\n",
    "    print(df[column].value_counts())\n",
    "    print('\\n')\n",
    "\n",
    "#Check whether conversion took place correctly. Answer: yes, identitical amounts of '0' resp. 'False' and  \n",
    "# '1' resp. 'True' values."
   ]
  },
  {
   "cell_type": "markdown",
   "metadata": {},
   "source": [
    "As the column Handcap has not been dichotomous, detailed inspection is needed."
   ]
  },
  {
   "cell_type": "code",
   "execution_count": 14,
   "metadata": {},
   "outputs": [
    {
     "data": {
      "text/plain": [
       "0    108286\n",
       "1      2042\n",
       "2       183\n",
       "3        13\n",
       "4         3\n",
       "Name: Handcap, dtype: int64"
      ]
     },
     "execution_count": 14,
     "metadata": {},
     "output_type": "execute_result"
    }
   ],
   "source": [
    "df['Handcap'].value_counts()"
   ]
  },
  {
   "cell_type": "markdown",
   "metadata": {},
   "source": [
    "The value distribution implies differentiations of the handicap-degree. 0 appears to be no handicap. The amounts of each degree are quite low, especially from degree 2 on. For the porpuse of analysis, we shall copy that column and combine the values of degree 1 to 4 to \"1 = handicap present\"."
   ]
  },
  {
   "cell_type": "code",
   "execution_count": 15,
   "metadata": {},
   "outputs": [
    {
     "data": {
      "text/plain": [
       "False    108286\n",
       "True       2241\n",
       "Name: Handcap-combined, dtype: int64"
      ]
     },
     "execution_count": 15,
     "metadata": {},
     "output_type": "execute_result"
    }
   ],
   "source": [
    "df['Handcap-combined'] = df['Handcap'].astype('bool')\n",
    "df['Handcap-combined'].value_counts()"
   ]
  },
  {
   "cell_type": "markdown",
   "metadata": {},
   "source": [
    "The conversion has been executed correctly. Now, to check whether the new column is included in the dataframe?"
   ]
  },
  {
   "cell_type": "code",
   "execution_count": 16,
   "metadata": {
    "scrolled": false
   },
   "outputs": [
    {
     "name": "stdout",
     "output_type": "stream",
     "text": [
      "<class 'pandas.core.frame.DataFrame'>\n",
      "RangeIndex: 110527 entries, 0 to 110526\n",
      "Data columns (total 15 columns):\n",
      "PatientId           110527 non-null float64\n",
      "AppointmentID       110527 non-null int64\n",
      "Gender              110527 non-null object\n",
      "ScheduledDay        110527 non-null datetime64[ns]\n",
      "AppointmentDay      110527 non-null datetime64[ns]\n",
      "Age                 110527 non-null int64\n",
      "Neighbourhood       110527 non-null object\n",
      "Scholarship         110527 non-null bool\n",
      "Hipertension        110527 non-null bool\n",
      "Diabetes            110527 non-null bool\n",
      "Alcoholism          110527 non-null bool\n",
      "Handcap             110527 non-null int64\n",
      "SMS_received        110527 non-null bool\n",
      "No-show             110527 non-null object\n",
      "Handcap-combined    110527 non-null bool\n",
      "dtypes: bool(6), datetime64[ns](2), float64(1), int64(3), object(3)\n",
      "memory usage: 8.2+ MB\n"
     ]
    }
   ],
   "source": [
    "df.info()"
   ]
  },
  {
   "cell_type": "markdown",
   "metadata": {},
   "source": [
    "The new column Handcap-combined has successfully been included.\n",
    "\n",
    "From previous inspection, we have seen the column No-show is dichotomous, but in the type 'object' instead of boolean. The reason is the usage of the values 'yes' and 'no'."
   ]
  },
  {
   "cell_type": "code",
   "execution_count": 17,
   "metadata": {},
   "outputs": [
    {
     "data": {
      "text/plain": [
       "No     88208\n",
       "Yes    22319\n",
       "Name: No-show, dtype: int64"
      ]
     },
     "execution_count": 17,
     "metadata": {},
     "output_type": "execute_result"
    }
   ],
   "source": [
    "df['No-show'].value_counts()"
   ]
  },
  {
   "cell_type": "markdown",
   "metadata": {},
   "source": [
    "For a conversion to type boolean '1' and '0' instead of 'No' and 'Yes' as values is needed."
   ]
  },
  {
   "cell_type": "code",
   "execution_count": 18,
   "metadata": {},
   "outputs": [],
   "source": [
    "df['No-show'].replace({'No': 0, 'Yes': 1}, inplace = True)"
   ]
  },
  {
   "cell_type": "markdown",
   "metadata": {},
   "source": [
    "Now, that the values have been replaced, we can convert the type to boolean."
   ]
  },
  {
   "cell_type": "code",
   "execution_count": 19,
   "metadata": {},
   "outputs": [],
   "source": [
    "df['No-show'] = df['No-show'].astype('bool', inplace=True)"
   ]
  },
  {
   "cell_type": "code",
   "execution_count": 20,
   "metadata": {},
   "outputs": [
    {
     "data": {
      "text/plain": [
       "False    88208\n",
       "True     22319\n",
       "Name: No-show, dtype: int64"
      ]
     },
     "execution_count": 20,
     "metadata": {},
     "output_type": "execute_result"
    }
   ],
   "source": [
    "df['No-show'].value_counts()"
   ]
  },
  {
   "cell_type": "markdown",
   "metadata": {},
   "source": [
    "As explained at the beginning we can drop both ID columns."
   ]
  },
  {
   "cell_type": "code",
   "execution_count": 21,
   "metadata": {},
   "outputs": [],
   "source": [
    "df.drop(['PatientId', 'AppointmentID'], axis=1, inplace=True)"
   ]
  },
  {
   "cell_type": "markdown",
   "metadata": {},
   "source": [
    "Since we dropped columns with unique identifiers, we run a security check on duplicate rows, as it might have happened that the same appointment has been recorded mulitiple times, but just with unique AppointmentIDs. This fault can happen when recording systems are generating IDs automatically and in case the user is not able to alter an existing entry and is then forced to insert a the entry newly."
   ]
  },
  {
   "cell_type": "code",
   "execution_count": 22,
   "metadata": {},
   "outputs": [
    {
     "data": {
      "text/plain": [
       "635"
      ]
     },
     "execution_count": 22,
     "metadata": {},
     "output_type": "execute_result"
    }
   ],
   "source": [
    "sum(df.duplicated())"
   ]
  },
  {
   "cell_type": "markdown",
   "metadata": {},
   "source": [
    "Printing the value distribution of the column ScheduledDay to check for the above explained \"hidden duplicates\"."
   ]
  },
  {
   "cell_type": "code",
   "execution_count": 23,
   "metadata": {},
   "outputs": [
    {
     "data": {
      "text/plain": [
       "2016-05-06 07:09:54    24\n",
       "2016-05-06 07:09:53    23\n",
       "2016-04-25 17:18:27    22\n",
       "2016-04-25 17:17:46    22\n",
       "2016-04-25 17:17:23    19\n",
       "2016-04-25 17:19:03    15\n",
       "2016-05-31 09:54:52    15\n",
       "2016-05-10 08:18:24    15\n",
       "2016-06-07 16:15:14    14\n",
       "2016-05-03 07:52:31    14\n",
       "2016-05-25 09:36:45    13\n",
       "2016-05-09 08:07:11    13\n",
       "2016-05-10 08:29:24    13\n",
       "2016-03-29 10:44:23    13\n",
       "2016-05-13 08:54:09    12\n",
       "2016-05-25 16:34:32    12\n",
       "2016-05-12 13:58:44    11\n",
       "2016-04-18 15:43:23    11\n",
       "2016-05-13 08:38:50    11\n",
       "2016-05-20 14:10:56    11\n",
       "2016-03-29 10:43:41    11\n",
       "2016-06-03 08:51:28    11\n",
       "2016-04-18 15:39:02    11\n",
       "2016-04-25 16:24:42    11\n",
       "2016-05-06 08:04:41    11\n",
       "2016-05-04 08:51:42    11\n",
       "2016-05-20 13:06:03    11\n",
       "2016-04-18 15:40:28    11\n",
       "2016-05-10 17:35:47    11\n",
       "2016-05-19 13:43:43    11\n",
       "                       ..\n",
       "2016-04-27 11:00:22     1\n",
       "2016-04-27 14:40:25     1\n",
       "2016-06-06 07:35:49     1\n",
       "2016-04-14 09:11:44     1\n",
       "2016-06-06 10:03:15     1\n",
       "2016-05-03 08:36:58     1\n",
       "2016-05-25 14:54:44     1\n",
       "2016-06-02 09:23:56     1\n",
       "2016-03-29 12:53:34     1\n",
       "2016-04-18 16:36:26     1\n",
       "2016-04-14 11:12:51     1\n",
       "2016-03-14 13:39:24     1\n",
       "2016-05-16 14:06:22     1\n",
       "2016-06-03 07:15:22     1\n",
       "2016-05-17 07:13:04     1\n",
       "2016-05-30 09:12:13     1\n",
       "2016-05-18 07:41:24     1\n",
       "2016-05-09 07:27:23     1\n",
       "2016-05-11 07:06:30     1\n",
       "2016-05-03 15:55:48     1\n",
       "2016-06-03 09:45:20     1\n",
       "2016-05-02 09:19:15     1\n",
       "2016-04-06 09:31:25     1\n",
       "2016-05-13 14:05:51     1\n",
       "2016-05-16 09:44:20     1\n",
       "2016-04-25 08:45:17     1\n",
       "2016-05-02 08:09:10     1\n",
       "2016-05-12 11:16:29     1\n",
       "2016-05-24 11:35:37     1\n",
       "2016-05-19 16:59:13     1\n",
       "Name: ScheduledDay, Length: 103549, dtype: int64"
      ]
     },
     "execution_count": 23,
     "metadata": {},
     "output_type": "execute_result"
    }
   ],
   "source": [
    "df['ScheduledDay'].value_counts()"
   ]
  },
  {
   "cell_type": "code",
   "execution_count": 24,
   "metadata": {},
   "outputs": [
    {
     "data": {
      "image/png": "[encoded data removed]",
      "text/plain": [
       "<Figure size 432x288 with 1 Axes>"
      ]
     },
     "metadata": {
      "needs_background": "light"
     },
     "output_type": "display_data"
    }
   ],
   "source": [
    "df['ScheduledDay'].value_counts().plot();"
   ]
  },
  {
   "cell_type": "markdown",
   "metadata": {},
   "source": [
    "It seems odd, that there are so many entries scheduled the exact same date, hour, minute and second. As the amount of duplicate rows is quite low in comparison to the total amount of entries in the dataset, let's try if this looks better, once they have been deleted."
   ]
  },
  {
   "cell_type": "code",
   "execution_count": 25,
   "metadata": {},
   "outputs": [],
   "source": [
    "df.drop_duplicates(subset=None, keep='first', inplace=True)"
   ]
  },
  {
   "cell_type": "code",
   "execution_count": 26,
   "metadata": {},
   "outputs": [
    {
     "data": {
      "text/plain": [
       "2016-05-06 07:09:54    23\n",
       "2016-05-06 07:09:53    23\n",
       "2016-04-25 17:17:46    22\n",
       "2016-04-25 17:18:27    22\n",
       "2016-04-25 17:17:23    19\n",
       "2016-04-25 17:19:03    15\n",
       "2016-05-31 09:54:52    15\n",
       "2016-05-10 08:18:24    14\n",
       "2016-03-29 10:44:23    13\n",
       "2016-06-07 16:15:14    13\n",
       "2016-05-25 09:36:45    13\n",
       "2016-05-03 07:52:31    13\n",
       "2016-05-09 08:07:11    13\n",
       "2016-05-10 08:29:24    13\n",
       "2016-05-13 08:54:09    12\n",
       "2016-04-25 16:24:42    11\n",
       "2016-05-25 16:34:32    11\n",
       "2016-05-20 14:10:56    11\n",
       "2016-06-03 08:51:28    11\n",
       "2016-05-13 08:38:50    11\n",
       "2016-04-18 15:40:28    11\n",
       "2016-05-20 13:06:03    11\n",
       "2016-04-18 15:39:02    11\n",
       "2016-05-04 08:51:42    11\n",
       "2016-03-29 10:43:41    11\n",
       "2016-05-19 13:43:43    11\n",
       "2016-04-18 15:43:23    11\n",
       "2016-05-12 13:58:44    11\n",
       "2016-05-06 08:04:41    11\n",
       "2016-05-10 17:35:47    10\n",
       "                       ..\n",
       "2016-04-28 08:23:37     1\n",
       "2016-05-30 14:33:14     1\n",
       "2016-06-06 08:12:19     1\n",
       "2016-04-18 08:57:57     1\n",
       "2016-05-19 08:40:17     1\n",
       "2016-05-31 10:23:13     1\n",
       "2016-05-11 11:29:13     1\n",
       "2016-05-24 07:20:53     1\n",
       "2016-06-03 15:16:52     1\n",
       "2016-04-19 15:14:40     1\n",
       "2016-06-02 07:28:06     1\n",
       "2016-05-16 15:59:07     1\n",
       "2016-05-10 14:36:28     1\n",
       "2016-03-30 17:36:05     1\n",
       "2016-05-04 13:14:09     1\n",
       "2016-05-17 09:41:33     1\n",
       "2016-04-26 07:20:59     1\n",
       "2016-05-31 11:32:02     1\n",
       "2016-05-05 10:02:26     1\n",
       "2016-04-27 12:44:35     1\n",
       "2016-04-29 08:40:07     1\n",
       "2016-05-11 08:59:15     1\n",
       "2016-05-17 07:55:44     1\n",
       "2016-05-16 11:10:15     1\n",
       "2016-05-09 08:33:04     1\n",
       "2016-04-06 09:43:40     1\n",
       "2016-06-06 15:24:39     1\n",
       "2016-05-11 13:55:03     1\n",
       "2016-05-02 07:34:29     1\n",
       "2016-05-19 16:59:13     1\n",
       "Name: ScheduledDay, Length: 103549, dtype: int64"
      ]
     },
     "execution_count": 26,
     "metadata": {},
     "output_type": "execute_result"
    }
   ],
   "source": [
    "df['ScheduledDay'].value_counts()"
   ]
  },
  {
   "cell_type": "code",
   "execution_count": 27,
   "metadata": {
    "scrolled": true
   },
   "outputs": [
    {
     "data": {
      "image/png": "[encoded data removed]",
      "text/plain": [
       "<Figure size 432x288 with 1 Axes>"
      ]
     },
     "metadata": {
      "needs_background": "light"
     },
     "output_type": "display_data"
    }
   ],
   "source": [
    "df['ScheduledDay'].value_counts().plot();"
   ]
  },
  {
   "cell_type": "markdown",
   "metadata": {},
   "source": [
    "Although a few values vanished after removal of these duplicates, the value distribution of ScheduledDay looks the same. These at first odd seeming values now appear valid."
   ]
  },
  {
   "cell_type": "markdown",
   "metadata": {},
   "source": [
    "From the first inspection of the dataset, we know that there is a '-1' and a '115' value present in the column Age."
   ]
  },
  {
   "cell_type": "code",
   "execution_count": 28,
   "metadata": {},
   "outputs": [
    {
     "data": {
      "text/html": [
       "<div>\n",
       "<style scoped>\n",
       "    .dataframe tbody tr th:only-of-type {\n",
       "        vertical-align: middle;\n",
       "    }\n",
       "\n",
       "    .dataframe tbody tr th {\n",
       "        vertical-align: top;\n",
       "    }\n",
       "\n",
       "    .dataframe thead th {\n",
       "        text-align: right;\n",
       "    }\n",
       "</style>\n",
       "<table border=\"1\" class=\"dataframe\">\n",
       "  <thead>\n",
       "    <tr style=\"text-align: right;\">\n",
       "      <th></th>\n",
       "      <th>Gender</th>\n",
       "      <th>ScheduledDay</th>\n",
       "      <th>AppointmentDay</th>\n",
       "      <th>Age</th>\n",
       "      <th>Neighbourhood</th>\n",
       "      <th>Scholarship</th>\n",
       "      <th>Hipertension</th>\n",
       "      <th>Diabetes</th>\n",
       "      <th>Alcoholism</th>\n",
       "      <th>Handcap</th>\n",
       "      <th>SMS_received</th>\n",
       "      <th>No-show</th>\n",
       "      <th>Handcap-combined</th>\n",
       "    </tr>\n",
       "  </thead>\n",
       "  <tbody>\n",
       "    <tr>\n",
       "      <th>99832</th>\n",
       "      <td>F</td>\n",
       "      <td>2016-06-06 08:58:13</td>\n",
       "      <td>2016-06-06</td>\n",
       "      <td>-1</td>\n",
       "      <td>ROMÃO</td>\n",
       "      <td>False</td>\n",
       "      <td>False</td>\n",
       "      <td>False</td>\n",
       "      <td>False</td>\n",
       "      <td>0</td>\n",
       "      <td>False</td>\n",
       "      <td>False</td>\n",
       "      <td>False</td>\n",
       "    </tr>\n",
       "  </tbody>\n",
       "</table>\n",
       "</div>"
      ],
      "text/plain": [
       "      Gender        ScheduledDay AppointmentDay  Age Neighbourhood  \\\n",
       "99832      F 2016-06-06 08:58:13     2016-06-06   -1         ROMÃO   \n",
       "\n",
       "       Scholarship  Hipertension  Diabetes  Alcoholism  Handcap  SMS_received  \\\n",
       "99832        False         False     False       False        0         False   \n",
       "\n",
       "       No-show  Handcap-combined  \n",
       "99832    False             False  "
      ]
     },
     "execution_count": 28,
     "metadata": {},
     "output_type": "execute_result"
    }
   ],
   "source": [
    "df.loc[df['Age'] == -1]"
   ]
  },
  {
   "cell_type": "markdown",
   "metadata": {},
   "source": [
    "It seems that the value has just been recorded incorrectly. We can therefore delete that row."
   ]
  },
  {
   "cell_type": "code",
   "execution_count": 29,
   "metadata": {},
   "outputs": [],
   "source": [
    "df.drop([99832], inplace=True)"
   ]
  },
  {
   "cell_type": "code",
   "execution_count": 30,
   "metadata": {},
   "outputs": [
    {
     "data": {
      "text/html": [
       "<div>\n",
       "<style scoped>\n",
       "    .dataframe tbody tr th:only-of-type {\n",
       "        vertical-align: middle;\n",
       "    }\n",
       "\n",
       "    .dataframe tbody tr th {\n",
       "        vertical-align: top;\n",
       "    }\n",
       "\n",
       "    .dataframe thead th {\n",
       "        text-align: right;\n",
       "    }\n",
       "</style>\n",
       "<table border=\"1\" class=\"dataframe\">\n",
       "  <thead>\n",
       "    <tr style=\"text-align: right;\">\n",
       "      <th></th>\n",
       "      <th>Gender</th>\n",
       "      <th>ScheduledDay</th>\n",
       "      <th>AppointmentDay</th>\n",
       "      <th>Age</th>\n",
       "      <th>Neighbourhood</th>\n",
       "      <th>Scholarship</th>\n",
       "      <th>Hipertension</th>\n",
       "      <th>Diabetes</th>\n",
       "      <th>Alcoholism</th>\n",
       "      <th>Handcap</th>\n",
       "      <th>SMS_received</th>\n",
       "      <th>No-show</th>\n",
       "      <th>Handcap-combined</th>\n",
       "    </tr>\n",
       "  </thead>\n",
       "  <tbody>\n",
       "    <tr>\n",
       "      <th>63912</th>\n",
       "      <td>F</td>\n",
       "      <td>2016-05-16 09:17:44</td>\n",
       "      <td>2016-05-19</td>\n",
       "      <td>115</td>\n",
       "      <td>ANDORINHAS</td>\n",
       "      <td>False</td>\n",
       "      <td>False</td>\n",
       "      <td>False</td>\n",
       "      <td>False</td>\n",
       "      <td>1</td>\n",
       "      <td>False</td>\n",
       "      <td>True</td>\n",
       "      <td>True</td>\n",
       "    </tr>\n",
       "    <tr>\n",
       "      <th>68127</th>\n",
       "      <td>F</td>\n",
       "      <td>2016-04-08 14:29:17</td>\n",
       "      <td>2016-05-16</td>\n",
       "      <td>115</td>\n",
       "      <td>ANDORINHAS</td>\n",
       "      <td>False</td>\n",
       "      <td>False</td>\n",
       "      <td>False</td>\n",
       "      <td>False</td>\n",
       "      <td>1</td>\n",
       "      <td>False</td>\n",
       "      <td>True</td>\n",
       "      <td>True</td>\n",
       "    </tr>\n",
       "    <tr>\n",
       "      <th>76284</th>\n",
       "      <td>F</td>\n",
       "      <td>2016-05-30 09:44:51</td>\n",
       "      <td>2016-05-30</td>\n",
       "      <td>115</td>\n",
       "      <td>ANDORINHAS</td>\n",
       "      <td>False</td>\n",
       "      <td>False</td>\n",
       "      <td>False</td>\n",
       "      <td>False</td>\n",
       "      <td>1</td>\n",
       "      <td>False</td>\n",
       "      <td>False</td>\n",
       "      <td>True</td>\n",
       "    </tr>\n",
       "    <tr>\n",
       "      <th>97666</th>\n",
       "      <td>F</td>\n",
       "      <td>2016-05-19 07:57:56</td>\n",
       "      <td>2016-06-03</td>\n",
       "      <td>115</td>\n",
       "      <td>SÃO JOSÉ</td>\n",
       "      <td>False</td>\n",
       "      <td>True</td>\n",
       "      <td>False</td>\n",
       "      <td>False</td>\n",
       "      <td>0</td>\n",
       "      <td>True</td>\n",
       "      <td>False</td>\n",
       "      <td>False</td>\n",
       "    </tr>\n",
       "  </tbody>\n",
       "</table>\n",
       "</div>"
      ],
      "text/plain": [
       "      Gender        ScheduledDay AppointmentDay  Age Neighbourhood  \\\n",
       "63912      F 2016-05-16 09:17:44     2016-05-19  115    ANDORINHAS   \n",
       "68127      F 2016-04-08 14:29:17     2016-05-16  115    ANDORINHAS   \n",
       "76284      F 2016-05-30 09:44:51     2016-05-30  115    ANDORINHAS   \n",
       "97666      F 2016-05-19 07:57:56     2016-06-03  115      SÃO JOSÉ   \n",
       "\n",
       "       Scholarship  Hipertension  Diabetes  Alcoholism  Handcap  SMS_received  \\\n",
       "63912        False         False     False       False        1         False   \n",
       "68127        False         False     False       False        1         False   \n",
       "76284        False         False     False       False        1         False   \n",
       "97666        False          True     False       False        0          True   \n",
       "\n",
       "       No-show  Handcap-combined  \n",
       "63912     True              True  \n",
       "68127     True              True  \n",
       "76284    False              True  \n",
       "97666    False             False  "
      ]
     },
     "execution_count": 30,
     "metadata": {},
     "output_type": "execute_result"
    }
   ],
   "source": [
    "df.loc[df['Age'] == 115]"
   ]
  },
  {
   "cell_type": "markdown",
   "metadata": {},
   "source": [
    "There are four rows where the age is stated 115. According to Wikipedia there are only very few people still alive at that age, however we seem to have the appointment data of just two individuals as the first three rows appear to belong to the same patient."
   ]
  },
  {
   "cell_type": "markdown",
   "metadata": {},
   "source": [
    "Now that we have finished the cleaning work, we can save the cleaned dataframe to another .csv-file. We shall now continue with the explorative analysis."
   ]
  },
  {
   "cell_type": "code",
   "execution_count": 31,
   "metadata": {},
   "outputs": [],
   "source": [
    "df.to_csv('noshowappointments-May-2016-cleaned.csv', index = False)"
   ]
  },
  {
   "cell_type": "markdown",
   "metadata": {},
   "source": [
    "<a id='eda'></a>\n",
    "## Exploratory Data Analysis\n",
    "\n",
    "### Research Question 1: Is there a relationship between the following personal parts of information and no-shows?\n",
    "<ol>\n",
    "<li>Diseases</li>\n",
    "<li>Neighbourhood</li></ol>"
   ]
  },
  {
   "cell_type": "code",
   "execution_count": 32,
   "metadata": {},
   "outputs": [],
   "source": [
    "dfc = pd.read_csv('noshowappointments-May-2016-cleaned.csv')\n",
    "#dfc acronym from df_cleaned"
   ]
  },
  {
   "cell_type": "markdown",
   "metadata": {},
   "source": [
    "#### 1. Analysis per Disease"
   ]
  },
  {
   "cell_type": "code",
   "execution_count": 44,
   "metadata": {},
   "outputs": [
    {
     "data": {
      "image/png": "[encoded data removed]",
      "text/plain": [
       "<Figure size 1080x3960 with 5 Axes>"
      ]
     },
     "metadata": {
      "needs_background": "light"
     },
     "output_type": "display_data"
    }
   ],
   "source": [
    "#For comparison, extracting patients without a stated disease into separate dataframes.\n",
    "df_no_disease_showed_up = dfc[(dfc['No-show'] == False) & (dfc['Hipertension'] == False) & (dfc['Diabetes'] == False) & (dfc['Alcoholism'] == False) & (dfc['Handcap'] == False)]\n",
    "df_no_disease_no_show = dfc[(dfc['No-show'] == True) & (dfc['Hipertension'] == False) & (dfc['Diabetes'] == False) & (dfc['Alcoholism'] == False) & (dfc['Handcap'] == False)]\n",
    "\n",
    "#Calculation the total amounts of appointments per disease for proportion calculuation later on.\n",
    "amount_no_disease = df_no_disease_showed_up['AppointmentDay'].count() + df_no_disease_no_show['AppointmentDay'].count()\n",
    "amount_Hipertension = sum(dfc.groupby(['No-show']).sum()['Hipertension'])\n",
    "amount_Diabetes = sum(dfc.groupby(['No-show']).sum()['Diabetes'])\n",
    "amount_Alcoholism = sum(dfc.groupby(['No-show']).sum()['Alcoholism'])\n",
    "amount_Handcap_combined = sum(dfc.groupby(['No-show']).sum()['Handcap-combined'])\n",
    "\n",
    "#Calculation the proportions of No-show and Show-up per disease and for no-disease\n",
    "hipertension = dfc.groupby(['No-show']).sum()['Hipertension']/amount_Hipertension *100\n",
    "diabetes = dfc.groupby(['No-show']).sum()['Diabetes']/amount_Diabetes * 100\n",
    "alcoholism = dfc.groupby(['No-show']).sum()['Alcoholism']/amount_Alcoholism * 100\n",
    "handcap_combined = dfc.groupby(['No-show']).sum()['Handcap-combined']/amount_Handcap_combined * 100\n",
    "no_disease_showed_up_proportion = df_no_disease_showed_up['AppointmentDay'].count() / amount_no_disease * 100\n",
    "no_disease_no_show_proportion = df_no_disease_no_show['AppointmentDay'].count() / amount_no_disease * 100\n",
    "\n",
    "\n",
    "#Plotting results of calculations above.\n",
    "# Styling the graphs\n",
    "fig = plt.figure(figsize=(15,55)) \n",
    "sns.set_style('whitegrid')\n",
    "\n",
    "# Defining the graphs\n",
    "plt.subplot(7,2,1)\n",
    "hipertension.plot.bar()\n",
    "plt.title('Proportion Appointments of Patients with Hypertension on No-show')\n",
    "plt.xlabel('No-show')\n",
    "plt.ylabel('Percentage of Appointments')\n",
    "\n",
    "plt.subplot(7,2,2)\n",
    "diabetes.plot.bar()\n",
    "plt.title('Proportion Appointments of Patients with Diabetes on No-show')\n",
    "plt.xlabel('No-show')\n",
    "plt.ylabel('Percentage of Appointments')\n",
    "\n",
    "plt.subplot(7,2,3)\n",
    "alcoholism.plot.bar()\n",
    "plt.title('Proportion Appointments of Patients with Alcoholism on No-show')\n",
    "plt.xlabel('No-show')\n",
    "plt.ylabel('Percentage of Appointments')\n",
    "\n",
    "plt.subplot(7,2,4)\n",
    "handcap_combined.plot.bar()\n",
    "plt.title('Proportion Appointments of Patients with Handicap on No-show')\n",
    "plt.xlabel('No-show')\n",
    "plt.ylabel('Percentage of Appointments')\n",
    "\n",
    "plt.subplot(7,2,5)\n",
    "plt.bar([\"False\",\"True\"], [no_disease_showed_up_proportion, no_disease_no_show_proportion]);\n",
    "plt.title('Proportion Appointments of Patients without any of the mentioned Diseases on No-show')\n",
    "plt.xlabel('No-show')\n",
    "plt.ylabel('Percentage of Appointments');"
   ]
  },
  {
   "cell_type": "markdown",
   "metadata": {},
   "source": [
    "The graphs above show the proportions of appointments with no-show (False, True) per disease.\n",
    "\n",
    "The highest proportion of \"No-shows\" has the group of patients without any of the mentioned diseases. The lowest has the group of patients with a handicap. However, we can identify the trend that whatever disease a patient might suffer, he is overall a bit more reliable in terms of showing up, compared to those without a disease. Since all diseases show very similar Show and No-show proportions, the type of the disease does not appear to have a relationship with the no-show proportions."
   ]
  },
  {
   "cell_type": "markdown",
   "metadata": {},
   "source": [
    "#### 2. Analysis of Neighboarhood"
   ]
  },
  {
   "cell_type": "markdown",
   "metadata": {},
   "source": [
    "Let us first get an overview of the variety of the neighborhoods."
   ]
  },
  {
   "cell_type": "code",
   "execution_count": 34,
   "metadata": {
    "scrolled": false
   },
   "outputs": [
    {
     "data": {
      "text/plain": [
       "JARDIM CAMBURI                 7616\n",
       "MARIA ORTIZ                    5804\n",
       "RESISTÊNCIA                    4387\n",
       "JARDIM DA PENHA                3873\n",
       "ITARARÉ                        3470\n",
       "CENTRO                         3310\n",
       "TABUAZEIRO                     3123\n",
       "SANTA MARTHA                   3103\n",
       "JESUS DE NAZARETH              2852\n",
       "BONFIM                         2761\n",
       "SANTO ANTÔNIO                  2733\n",
       "SANTO ANDRÉ                    2556\n",
       "CARATOÍRA                      2541\n",
       "JABOUR                         2507\n",
       "SÃO PEDRO                      2431\n",
       "ILHA DO PRÍNCIPE               2266\n",
       "NOVA PALESTINA                 2263\n",
       "DA PENHA                       2203\n",
       "ROMÃO                          2196\n",
       "ANDORINHAS                     2194\n",
       "GURIGICA                       2008\n",
       "SÃO JOSÉ                       1963\n",
       "BELA VISTA                     1894\n",
       "MARUÍPE                        1891\n",
       "ILHA DE SANTA MARIA            1885\n",
       "FORTE SÃO JOÃO                 1864\n",
       "SÃO CRISTÓVÃO                  1831\n",
       "REDENÇÃO                       1553\n",
       "SÃO BENEDITO                   1433\n",
       "JOANA D´ARC                    1420\n",
       "                               ... \n",
       "SANTOS REIS                     542\n",
       "ESTRELINHA                      538\n",
       "SANTA CLARA                     501\n",
       "SOLON BORGES                    469\n",
       "SANTA CECÍLIA                   448\n",
       "PIEDADE                         446\n",
       "SANTA LÚCIA                     436\n",
       "SANTA LUÍZA                     428\n",
       "BARRO VERMELHO                  422\n",
       "DO MOSCOSO                      411\n",
       "MÁRIO CYPRESTE                  367\n",
       "BOA VISTA                       312\n",
       "COMDUSA                         303\n",
       "DE LOURDES                      302\n",
       "ARIOVALDO FAVALESSA             280\n",
       "ANTÔNIO HONÓRIO                 271\n",
       "FRADINHOS                       258\n",
       "ENSEADA DO SUÁ                  235\n",
       "SANTA HELENA                    178\n",
       "HORTO                           175\n",
       "UNIVERSITÁRIO                   152\n",
       "SEGURANÇA DO LAR                144\n",
       "NAZARETH                        135\n",
       "MORADA DE CAMBURI                96\n",
       "PONTAL DE CAMBURI                69\n",
       "ILHA DO BOI                      35\n",
       "ILHA DO FRADE                    10\n",
       "AEROPORTO                         8\n",
       "ILHAS OCEÂNICAS DE TRINDADE       2\n",
       "PARQUE INDUSTRIAL                 1\n",
       "Name: Neighbourhood, Length: 81, dtype: int64"
      ]
     },
     "execution_count": 34,
     "metadata": {},
     "output_type": "execute_result"
    }
   ],
   "source": [
    "dfc['Neighbourhood'].value_counts()"
   ]
  },
  {
   "cell_type": "markdown",
   "metadata": {},
   "source": [
    "There are 81 different neighborhoods present in the dataset. The majority has than 100 appointments. Hence the big picture appears not to be too fragmented. The amounts are high enough for simple analysis. However, for reasons of overview we shall concentrate us on the top 15 neighborhoods."
   ]
  },
  {
   "cell_type": "code",
   "execution_count": 35,
   "metadata": {},
   "outputs": [],
   "source": [
    "hood_no_shows = dfc.groupby('Neighbourhood').sum()['No-show']\n",
    "#Since the column No-show is type boolean, we have to think about how the grouping calculation is done? When grouping with \n",
    "#type boolean the value True is set equal to 1 and can therefore be summarized in this way."
   ]
  },
  {
   "cell_type": "markdown",
   "metadata": {},
   "source": [
    "Since each neighborhood is unequal in terms of amount inhabitants and their appointments, we need to calculate proportions of No-shows and amount of appointments per neighborhood.\n",
    "\n",
    "Converting the series hood_no_shows to a dataframe to be able to merge in the amounts of appointments per hood later on."
   ]
  },
  {
   "cell_type": "code",
   "execution_count": 36,
   "metadata": {},
   "outputs": [
    {
     "data": {
      "text/html": [
       "<div>\n",
       "<style scoped>\n",
       "    .dataframe tbody tr th:only-of-type {\n",
       "        vertical-align: middle;\n",
       "    }\n",
       "\n",
       "    .dataframe tbody tr th {\n",
       "        vertical-align: top;\n",
       "    }\n",
       "\n",
       "    .dataframe thead th {\n",
       "        text-align: right;\n",
       "    }\n",
       "</style>\n",
       "<table border=\"1\" class=\"dataframe\">\n",
       "  <thead>\n",
       "    <tr style=\"text-align: right;\">\n",
       "      <th></th>\n",
       "      <th>Neighbourhood</th>\n",
       "      <th>No-shows</th>\n",
       "    </tr>\n",
       "  </thead>\n",
       "  <tbody>\n",
       "    <tr>\n",
       "      <th>38</th>\n",
       "      <td>JARDIM CAMBURI</td>\n",
       "      <td>1429.0</td>\n",
       "    </tr>\n",
       "    <tr>\n",
       "      <th>43</th>\n",
       "      <td>MARIA ORTIZ</td>\n",
       "      <td>1219.0</td>\n",
       "    </tr>\n",
       "    <tr>\n",
       "      <th>36</th>\n",
       "      <td>ITARARÉ</td>\n",
       "      <td>902.0</td>\n",
       "    </tr>\n",
       "    <tr>\n",
       "      <th>59</th>\n",
       "      <td>RESISTÊNCIA</td>\n",
       "      <td>885.0</td>\n",
       "    </tr>\n",
       "    <tr>\n",
       "      <th>40</th>\n",
       "      <td>JESUS DE NAZARETH</td>\n",
       "      <td>695.0</td>\n",
       "    </tr>\n",
       "  </tbody>\n",
       "</table>\n",
       "</div>"
      ],
      "text/plain": [
       "        Neighbourhood  No-shows\n",
       "38     JARDIM CAMBURI    1429.0\n",
       "43        MARIA ORTIZ    1219.0\n",
       "36            ITARARÉ     902.0\n",
       "59        RESISTÊNCIA     885.0\n",
       "40  JESUS DE NAZARETH     695.0"
      ]
     },
     "execution_count": 36,
     "metadata": {},
     "output_type": "execute_result"
    }
   ],
   "source": [
    "df_no_shows_per_hood = hood_no_shows.to_frame()\n",
    "df_no_shows_per_hood.reset_index(inplace=True)\n",
    "df_no_shows_per_hood.rename(columns={df_no_shows_per_hood.columns[0]: \"Neighbourhood\", df_no_shows_per_hood.columns[1]: \"No-shows\"}, inplace=True)\n",
    "df_no_shows_per_hood.sort_values(ascending=False, by='No-shows', inplace=True)\n",
    "df_no_shows_per_hood.head()"
   ]
  },
  {
   "cell_type": "markdown",
   "metadata": {},
   "source": [
    "Calculating the amount of appointments per neighborhood and putting them into a dataframe."
   ]
  },
  {
   "cell_type": "code",
   "execution_count": 37,
   "metadata": {
    "scrolled": false
   },
   "outputs": [
    {
     "data": {
      "text/html": [
       "<div>\n",
       "<style scoped>\n",
       "    .dataframe tbody tr th:only-of-type {\n",
       "        vertical-align: middle;\n",
       "    }\n",
       "\n",
       "    .dataframe tbody tr th {\n",
       "        vertical-align: top;\n",
       "    }\n",
       "\n",
       "    .dataframe thead th {\n",
       "        text-align: right;\n",
       "    }\n",
       "</style>\n",
       "<table border=\"1\" class=\"dataframe\">\n",
       "  <thead>\n",
       "    <tr style=\"text-align: right;\">\n",
       "      <th></th>\n",
       "      <th>Neighbourhood</th>\n",
       "      <th>Amount_Appointments</th>\n",
       "    </tr>\n",
       "  </thead>\n",
       "  <tbody>\n",
       "    <tr>\n",
       "      <th>0</th>\n",
       "      <td>JARDIM CAMBURI</td>\n",
       "      <td>7616</td>\n",
       "    </tr>\n",
       "    <tr>\n",
       "      <th>1</th>\n",
       "      <td>MARIA ORTIZ</td>\n",
       "      <td>5804</td>\n",
       "    </tr>\n",
       "    <tr>\n",
       "      <th>2</th>\n",
       "      <td>RESISTÊNCIA</td>\n",
       "      <td>4387</td>\n",
       "    </tr>\n",
       "    <tr>\n",
       "      <th>3</th>\n",
       "      <td>JARDIM DA PENHA</td>\n",
       "      <td>3873</td>\n",
       "    </tr>\n",
       "    <tr>\n",
       "      <th>4</th>\n",
       "      <td>ITARARÉ</td>\n",
       "      <td>3470</td>\n",
       "    </tr>\n",
       "    <tr>\n",
       "      <th>5</th>\n",
       "      <td>CENTRO</td>\n",
       "      <td>3310</td>\n",
       "    </tr>\n",
       "    <tr>\n",
       "      <th>6</th>\n",
       "      <td>TABUAZEIRO</td>\n",
       "      <td>3123</td>\n",
       "    </tr>\n",
       "    <tr>\n",
       "      <th>7</th>\n",
       "      <td>SANTA MARTHA</td>\n",
       "      <td>3103</td>\n",
       "    </tr>\n",
       "    <tr>\n",
       "      <th>8</th>\n",
       "      <td>JESUS DE NAZARETH</td>\n",
       "      <td>2852</td>\n",
       "    </tr>\n",
       "    <tr>\n",
       "      <th>9</th>\n",
       "      <td>BONFIM</td>\n",
       "      <td>2761</td>\n",
       "    </tr>\n",
       "    <tr>\n",
       "      <th>10</th>\n",
       "      <td>SANTO ANTÔNIO</td>\n",
       "      <td>2733</td>\n",
       "    </tr>\n",
       "    <tr>\n",
       "      <th>11</th>\n",
       "      <td>SANTO ANDRÉ</td>\n",
       "      <td>2556</td>\n",
       "    </tr>\n",
       "    <tr>\n",
       "      <th>12</th>\n",
       "      <td>CARATOÍRA</td>\n",
       "      <td>2541</td>\n",
       "    </tr>\n",
       "    <tr>\n",
       "      <th>13</th>\n",
       "      <td>JABOUR</td>\n",
       "      <td>2507</td>\n",
       "    </tr>\n",
       "    <tr>\n",
       "      <th>14</th>\n",
       "      <td>SÃO PEDRO</td>\n",
       "      <td>2431</td>\n",
       "    </tr>\n",
       "  </tbody>\n",
       "</table>\n",
       "</div>"
      ],
      "text/plain": [
       "        Neighbourhood  Amount_Appointments\n",
       "0      JARDIM CAMBURI                 7616\n",
       "1         MARIA ORTIZ                 5804\n",
       "2         RESISTÊNCIA                 4387\n",
       "3     JARDIM DA PENHA                 3873\n",
       "4             ITARARÉ                 3470\n",
       "5              CENTRO                 3310\n",
       "6          TABUAZEIRO                 3123\n",
       "7        SANTA MARTHA                 3103\n",
       "8   JESUS DE NAZARETH                 2852\n",
       "9              BONFIM                 2761\n",
       "10      SANTO ANTÔNIO                 2733\n",
       "11        SANTO ANDRÉ                 2556\n",
       "12          CARATOÍRA                 2541\n",
       "13             JABOUR                 2507\n",
       "14          SÃO PEDRO                 2431"
      ]
     },
     "execution_count": 37,
     "metadata": {},
     "output_type": "execute_result"
    }
   ],
   "source": [
    "amount_appointments_per_hood = dfc['Neighbourhood'].value_counts()\n",
    "df_amount_appointments_per_hood = amount_appointments_per_hood.to_frame()\n",
    "df_amount_appointments_per_hood.reset_index(inplace=True)\n",
    "df_amount_appointments_per_hood.rename(columns={df_amount_appointments_per_hood.columns[0]: \"Neighbourhood\", df_amount_appointments_per_hood.columns[1]: \"Amount_Appointments\"}, inplace=True)\n",
    "df_amount_appointments_per_hood.head(15)"
   ]
  },
  {
   "cell_type": "markdown",
   "metadata": {},
   "source": [
    "Now, we need to merge in the amount of appointments of hood_no_shows, calculate the proportions and shorten the result for visualization."
   ]
  },
  {
   "cell_type": "code",
   "execution_count": 38,
   "metadata": {},
   "outputs": [],
   "source": [
    "df_amount_appointments_per_hood = df_no_shows_per_hood.merge(df_amount_appointments_per_hood, left_on='Neighbourhood', right_on='Neighbourhood', how='inner')\n",
    "df_amount_appointments_per_hood['Percentage_No_Shows'] = df_amount_appointments_per_hood['No-shows'] / df_amount_appointments_per_hood['Amount_Appointments'] * 100\n",
    "df_amount_appointments_per_hood.sort_values(ascending=False, by='Amount_Appointments', inplace=True)"
   ]
  },
  {
   "cell_type": "code",
   "execution_count": 39,
   "metadata": {
    "scrolled": true
   },
   "outputs": [
    {
     "name": "stderr",
     "output_type": "stream",
     "text": [
      "/home/stefan_cornelissen/anaconda3/envs/pfx-python3/lib/python3.7/site-packages/ipykernel_launcher.py:2: SettingWithCopyWarning: \n",
      "A value is trying to be set on a copy of a slice from a DataFrame\n",
      "\n",
      "See the caveats in the documentation: http://pandas.pydata.org/pandas-docs/stable/indexing.html#indexing-view-versus-copy\n",
      "  \n"
     ]
    }
   ],
   "source": [
    "df_amount_appointments_per_hood_top_15_amount_appoint = df_amount_appointments_per_hood.head(15)\n",
    "df_amount_appointments_per_hood_top_15_amount_appoint.sort_values(ascending=False, by='Percentage_No_Shows', inplace=True)\n",
    "df_amount_appointments_per_hood_top_15_amount_appoint.set_index('Neighbourhood', inplace=True)"
   ]
  },
  {
   "cell_type": "code",
   "execution_count": 45,
   "metadata": {
    "scrolled": false
   },
   "outputs": [
    {
     "data": {
      "image/png": "[encoded data removed]",
      "text/plain": [
       "<Figure size 1440x720 with 1 Axes>"
      ]
     },
     "metadata": {},
     "output_type": "display_data"
    }
   ],
   "source": [
    "df_amount_appointments_per_hood_top_15_amount_appoint['Percentage_No_Shows'].plot(kind='bar', figsize=(20,10))\n",
    "sns.set_style('whitegrid')\n",
    "plt.title('Proportion Appointments of Patients per Neighborhood on No-shows')\n",
    "plt.ylabel('Percantage No-shows per Neighborhood')\n",
    "plt.xlabel('Neighborhood');"
   ]
  },
  {
   "cell_type": "markdown",
   "metadata": {},
   "source": [
    "The evaluation of the No-show proportion per neighborhood large differences. As the 'n' of all displayed neighborhoods is high, we can rely on that picture. Important to note is that in Itararé more than every fourth appointment has been skipped by the patient."
   ]
  },
  {
   "cell_type": "markdown",
   "metadata": {},
   "source": [
    "### Research Question 2: Did SMS-reminders decrease the proportion of patients not showing up?"
   ]
  },
  {
   "cell_type": "markdown",
   "metadata": {},
   "source": [
    "In order answer that research question, we first need to build separate dataframes. One including the patients who received an SMS-reminder and one with patients, who did not receive an SMS-reminder. Thereafter we can analyze the proportions of No-shows within each dataframe."
   ]
  },
  {
   "cell_type": "code",
   "execution_count": 41,
   "metadata": {
    "scrolled": false
   },
   "outputs": [
    {
     "name": "stderr",
     "output_type": "stream",
     "text": [
      "/home/stefan_cornelissen/anaconda3/envs/pfx-python3/lib/python3.7/site-packages/pandas/core/frame.py:3781: SettingWithCopyWarning: \n",
      "A value is trying to be set on a copy of a slice from a DataFrame\n",
      "\n",
      "See the caveats in the documentation: http://pandas.pydata.org/pandas-docs/stable/indexing.html#indexing-view-versus-copy\n",
      "  return super(DataFrame, self).rename(**kwargs)\n",
      "/home/stefan_cornelissen/anaconda3/envs/pfx-python3/lib/python3.7/site-packages/pandas/core/generic.py:5890: SettingWithCopyWarning: \n",
      "A value is trying to be set on a copy of a slice from a DataFrame\n",
      "\n",
      "See the caveats in the documentation: http://pandas.pydata.org/pandas-docs/stable/indexing.html#indexing-view-versus-copy\n",
      "  self._update_inplace(new_data)\n"
     ]
    }
   ],
   "source": [
    "dfc_sms_received = dfc[(dfc['SMS_received'] == True)]\n",
    "dfc_no_sms_received = dfc[(dfc['SMS_received'] == False)]\n",
    "\n",
    "#Grouping by No-show, to calculate the amounts for each case.\n",
    "sms_received = dfc_sms_received.groupby(['No-show']).sum()['SMS_received']\n",
    "\n",
    "# As group function in combination with boolean values only works with \"True\" values, we need to invert \n",
    "# the column SMS_received in this case.\n",
    "dfc_no_sms_received.rename(columns={\"SMS_received\":\"SMS_not_received\"}, inplace=True)\n",
    "dfc_no_sms_received['SMS_not_received'].replace({False: True}, inplace = True)                                                 \n",
    "\n",
    "no_sms_received = dfc_no_sms_received.groupby(['No-show']).sum()['SMS_not_received']"
   ]
  },
  {
   "cell_type": "markdown",
   "metadata": {},
   "source": [
    "Cross-checking the value distribution of the groupings with the total amount of appointments of the dataset."
   ]
  },
  {
   "cell_type": "code",
   "execution_count": 42,
   "metadata": {},
   "outputs": [
    {
     "name": "stdout",
     "output_type": "stream",
     "text": [
      "No-show\n",
      "False    25698.0\n",
      "True      9784.0\n",
      "Name: SMS_received, dtype: float64\n",
      "\n",
      "\n",
      "No-show\n",
      "False    62095.0\n",
      "True     12314.0\n",
      "Name: SMS_not_received, dtype: float64\n",
      "\n",
      "\n",
      "True\n"
     ]
    }
   ],
   "source": [
    "print(sms_received)\n",
    "print('\\n')\n",
    "print(no_sms_received)\n",
    "print('\\n')\n",
    "print(dfc['AppointmentDay'].count() == sum(sms_received) + sum(no_sms_received))"
   ]
  },
  {
   "cell_type": "markdown",
   "metadata": {},
   "source": [
    "Since everything looks correct, we can calculate the proportions and visualize them."
   ]
  },
  {
   "cell_type": "code",
   "execution_count": 43,
   "metadata": {},
   "outputs": [
    {
     "data": {
      "image/png": "[encoded data removed]",
      "text/plain": [
       "<Figure size 1296x1080 with 2 Axes>"
      ]
     },
     "metadata": {},
     "output_type": "display_data"
    }
   ],
   "source": [
    "sms_received = sms_received / sum(sms_received) * 100\n",
    "no_sms_received = no_sms_received / sum(no_sms_received) * 100\n",
    "\n",
    "# Styling the graphs\n",
    "fig = plt.figure(figsize=(18,15))\n",
    "\n",
    "plt.subplot(2,2,1)\n",
    "sms_received.plot.pie(autopct='%.1f%%')\n",
    "plt.title('Proportion Appointments of Patients WHO RECEIVED a SMS-Reminder on No-show')\n",
    "plt.xlabel('No-show')\n",
    "\n",
    "plt.subplot(2,2,2)\n",
    "no_sms_received.plot.pie(autopct='%.1f%%')\n",
    "plt.title('Proportion Appointments of Patients WHO DID NOT RECEIVE a SMS-Reminder on No-show')\n",
    "plt.xlabel('No-show');"
   ]
  },
  {
   "cell_type": "markdown",
   "metadata": {},
   "source": [
    "Surprisingly, the group who received a SMS-reminder did not show up more often compared to those who did not receive a reminder. The group not having received a reminder has a much smaller proportion of No-shows."
   ]
  },
  {
   "cell_type": "markdown",
   "metadata": {},
   "source": [
    "<a id='conclusions'></a>\n",
    "## Conclusions\n",
    "\n",
    "My analysis revealed that patients without any of the in the dataset stated diseases have higher no-show rates compared to those having a disease. Thereby it does not make much of a difference, which disease (hypertension, diabetes, alcoholism or handicap) the patient suffers.\n",
    "\n",
    "Furthermore, we saw large differences in no-show proportions between the neighborhoods. We have seen neighborhoods where one out of four to five appointments has a no-show. \n",
    "\n",
    "Lastly, and most surprisingly is the fact that for the appointments within this dataset a SMS-reminding the patients of their upcoming appointment made things worse.\n",
    "\n",
    "### Limitations\n",
    "The scope of this analysis is limited to the setting in which the data has been gathered. Any findings or trends cannot be induced to a larger population or to another setting.\n",
    "\n",
    "The analysis is limited to trends and only shows value distributions. Causations cannot be drawn. For this purpose, statistical tests and more thorough data segmentations would be required.\n",
    "\n",
    "###  Suggestions\n",
    "Next to combining analysis of diseases with other attributes such as neighborhood, or including other available dimensions into this analysis, I find it most interesting to further investigate the SMS-reminder dimension. As most dimensions are rather \"back-looking\", the insights from SMS-reminder dimension can potentially decrease no-show-proportions.\n",
    "\n",
    "For example, the dimension Patient-ID may be used to create a \"before\" and \"after\" scenario. Therefore, we need to sub segment patients with two or more appointments in the dataset. Next, we analyze the no shows of patients who did not receive a reminder for their first appointment(s). This is the \"before\" scenario. Then, we compare the proportions to the sub segment of at least \"the second appointment\" of all patients with multiple appointments who then received a SMS-reminder. This sub segmenting puts the focus on whether a reminder decreases no-shows. There could be patients in the dataset who were mistakenly biased by the reminder in some way."
   ]
  }
 ],
 "metadata": {
  "kernelspec": {
   "display_name": "Python 3",
   "language": "python",
   "name": "python3"
  },
  "language_info": {
   "codemirror_mode": {
    "name": "ipython",
    "version": 3
   },
   "file_extension": ".py",
   "mimetype": "text/x-python",
   "name": "python",
   "nbconvert_exporter": "python",
   "pygments_lexer": "ipython3",
   "version": "3.7.0"
  }
 },
 "nbformat": 4,
 "nbformat_minor": 2
}
